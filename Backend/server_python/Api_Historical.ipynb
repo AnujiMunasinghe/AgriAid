{
 "cells": [
  {
   "cell_type": "code",
   "execution_count": 1,
   "id": "4e9f0834",
   "metadata": {},
   "outputs": [],
   "source": [
    "from flask import Flask, jsonify, request\n",
    "import tensorflow as tf\n",
    "from tensorflow import keras"
   ]
  },
  {
   "cell_type": "code",
   "execution_count": null,
   "id": "c4bbef44",
   "metadata": {},
   "outputs": [
    {
     "name": "stderr",
     "output_type": "stream",
     "text": [
      "WARNING:absl:Skipping variable loading for optimizer 'Adam', because it has 13 variables whereas the saved optimizer has 1 variables. \n"
     ]
    },
    {
     "name": "stdout",
     "output_type": "stream",
     "text": [
      " * Serving Flask app '__main__'\n",
      " * Debug mode: off\n"
     ]
    },
    {
     "name": "stderr",
     "output_type": "stream",
     "text": [
      "INFO:werkzeug:\u001b[31m\u001b[1mWARNING: This is a development server. Do not use it in a production deployment. Use a production WSGI server instead.\u001b[0m\n",
      " * Running on http://127.0.0.1:5000\n",
      "INFO:werkzeug:\u001b[33mPress CTRL+C to quit\u001b[0m\n",
      "INFO:werkzeug:127.0.0.1 - - [09/May/2023 00:03:14] \"POST /test HTTP/1.1\" 200 -\n",
      "INFO:werkzeug:127.0.0.1 - - [09/May/2023 00:05:50] \"POST /test HTTP/1.1\" 200 -\n",
      "INFO:werkzeug:127.0.0.1 - - [09/May/2023 00:06:18] \"\u001b[31m\u001b[1mPOST /historical HTTP/1.1\u001b[0m\" 400 -\n"
     ]
    }
   ],
   "source": [
    "# Import required libraries\n",
    "import pickle\n",
    "from flask import Flask, request, jsonify\n",
    "\n",
    "# Load your pickled machine learning model\n",
    "with open('historical.pkl', 'rb') as f:\n",
    "    model = pickle.load(f)\n",
    "\n",
    "# Create a Flask application\n",
    "app = Flask(__name__)\n",
    "\n",
    "# Define a route to make predictions\n",
    "@app.route('/historical', methods=['POST'])\n",
    "def predict():\n",
    "    # Get input data\n",
    "    data = request.get_json(force=True)\n",
    "\n",
    "    # Use the loaded model to make predictions\n",
    "    predictions = model.predict(data)\n",
    "\n",
    "    # Return predictions as JSON response\n",
    "    return jsonify(predictions)\n",
    "\n",
    "@app.route(\"/test\", methods=['POST'])\n",
    "def test_api():\n",
    "    # Get input data\n",
    "    data = request.get_json()\n",
    "\n",
    "    # Do some processing with the input data\n",
    "    # For example, you can access a key in the JSON object like this:\n",
    "    if 'name' in data:\n",
    "        name = data['name']\n",
    "    else:\n",
    "        name = \"World\"\n",
    "        \n",
    "    # Create a response JSON object\n",
    "    response = {\"message\": \"Hello, {}!\".format(name)}\n",
    "\n",
    "    # Return the response as a JSON object\n",
    "    return jsonify(response)\n",
    "\n",
    "# Run the Flask application\n",
    "if __name__ == '__main__':\n",
    "    app.run()\n"
   ]
  },
  {
   "cell_type": "code",
   "execution_count": null,
   "id": "8574cd75",
   "metadata": {},
   "outputs": [],
   "source": []
  }
 ],
 "metadata": {
  "kernelspec": {
   "display_name": "Python 3 (ipykernel)",
   "language": "python",
   "name": "python3"
  },
  "language_info": {
   "codemirror_mode": {
    "name": "ipython",
    "version": 3
   },
   "file_extension": ".py",
   "mimetype": "text/x-python",
   "name": "python",
   "nbconvert_exporter": "python",
   "pygments_lexer": "ipython3",
   "version": "3.10.11"
  }
 },
 "nbformat": 4,
 "nbformat_minor": 5
}
