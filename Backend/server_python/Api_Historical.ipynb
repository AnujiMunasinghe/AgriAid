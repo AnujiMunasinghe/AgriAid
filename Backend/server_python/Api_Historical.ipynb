{
 "cells": [
  {
   "cell_type": "code",
   "execution_count": 1,
   "id": "8bbc8f2a",
   "metadata": {},
   "outputs": [
    {
     "name": "stdout",
     "output_type": "stream",
     "text": [
      "Requirement already satisfied: Flask in c:\\users\\asus\\appdata\\local\\programs\\python\\python310\\lib\\site-packages (2.3.2)\n",
      "Requirement already satisfied: blinker>=1.6.2 in c:\\users\\asus\\appdata\\local\\programs\\python\\python310\\lib\\site-packages (from Flask) (1.6.2)\n",
      "Requirement already satisfied: click>=8.1.3 in c:\\users\\asus\\appdata\\local\\programs\\python\\python310\\lib\\site-packages (from Flask) (8.1.3)\n",
      "Requirement already satisfied: Werkzeug>=2.3.3 in c:\\users\\asus\\appdata\\local\\programs\\python\\python310\\lib\\site-packages (from Flask) (2.3.3)\n",
      "Requirement already satisfied: Jinja2>=3.1.2 in c:\\users\\asus\\appdata\\local\\programs\\python\\python310\\lib\\site-packages (from Flask) (3.1.2)\n",
      "Requirement already satisfied: itsdangerous>=2.1.2 in c:\\users\\asus\\appdata\\local\\programs\\python\\python310\\lib\\site-packages (from Flask) (2.1.2)\n",
      "Requirement already satisfied: colorama in c:\\users\\asus\\appdata\\local\\programs\\python\\python310\\lib\\site-packages (from click>=8.1.3->Flask) (0.4.6)\n",
      "Requirement already satisfied: MarkupSafe>=2.0 in c:\\users\\asus\\appdata\\local\\programs\\python\\python310\\lib\\site-packages (from Jinja2>=3.1.2->Flask) (2.1.2)\n",
      "Note: you may need to restart the kernel to use updated packages.\n"
     ]
    },
    {
     "name": "stderr",
     "output_type": "stream",
     "text": [
      "\n",
      "[notice] A new release of pip is available: 23.0.1 -> 23.1.2\n",
      "[notice] To update, run: C:\\Users\\ASUS\\AppData\\Local\\Programs\\Python\\Python310\\python.exe -m pip install --upgrade pip\n"
     ]
    }
   ],
   "source": [
    "pip install Flask"
   ]
  },
  {
   "cell_type": "code",
   "execution_count": 2,
   "id": "4e9f0834",
   "metadata": {},
   "outputs": [],
   "source": [
    "from flask import Flask, jsonify, request\n",
    "import tensorflow as tf\n",
    "from tensorflow import keras"
   ]
  },
  {
   "cell_type": "code",
   "execution_count": null,
   "id": "c4bbef44",
   "metadata": {},
   "outputs": [],
   "source": [
    "# Import required libraries\n",
    "import pickle\n",
    "from flask import Flask, request, jsonify\n",
    "\n",
    "# Load your pickled machine learning model\n",
    "with open('historical.pkl', 'rb') as f:\n",
    "    model = pickle.load(f)\n",
    "\n",
    "# Create a Flask application\n",
    "app = Flask(__name__)\n",
    "\n",
    "# Define a route to make predictions\n",
    "@app.route('/historical', methods=['POST'])\n",
    "def predict():\n",
    "    # Get input data\n",
    "    data = request.get_json(force=True)\n",
    "\n",
    "    # Use the loaded model to make predictions\n",
    "    predictions = model.predict(data)\n",
    "\n",
    "    # Return predictions as JSON response\n",
    "    return jsonify(predictions)\n",
    "\n",
    "# Run the Flask application\n",
    "if __name__ == '__main__':\n",
    "    app.run()\n"
   ]
  },
  {
   "cell_type": "code",
   "execution_count": null,
   "id": "8574cd75",
   "metadata": {},
   "outputs": [],
   "source": []
  }
 ],
 "metadata": {
  "kernelspec": {
   "display_name": "Python 3 (ipykernel)",
   "language": "python",
   "name": "python3"
  },
  "language_info": {
   "codemirror_mode": {
    "name": "ipython",
    "version": 3
   },
   "file_extension": ".py",
   "mimetype": "text/x-python",
   "name": "python",
   "nbconvert_exporter": "python",
   "pygments_lexer": "ipython3",
   "version": "3.10.11"
  }
 },
 "nbformat": 4,
 "nbformat_minor": 5
}
