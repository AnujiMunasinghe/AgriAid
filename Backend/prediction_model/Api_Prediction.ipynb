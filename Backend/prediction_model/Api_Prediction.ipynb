{
 "cells": [
  {
   "cell_type": "code",
   "execution_count": 1,
   "metadata": {},
   "outputs": [],
   "source": [
    "import tensorflow as tf\n",
    "from tensorflow.keras.models import load_model\n",
    "from sklearn.preprocessing import LabelEncoder, MinMaxScaler\n",
    "import json\n",
    "import numpy as np\n",
    "from flask import Flask, request, Response"
   ]
  },
  {
   "cell_type": "code",
   "execution_count": 2,
   "metadata": {},
   "outputs": [],
   "source": [
    "app = Flask(__name__)"
   ]
  },
  {
   "cell_type": "code",
   "execution_count": 3,
   "metadata": {},
   "outputs": [],
   "source": [
    "@app.route('/predict', methods=['POST'])\n",
    "def Predict():\n",
    " \n",
    "    input_data = request.get_json()\n",
    "\n",
    "    # Preprocess the data\n",
    "    crop_encoder = LabelEncoder()\n",
    "    region_encoder = LabelEncoder()\n",
    "    quarter_encoder = LabelEncoder()\n",
    "\n",
    "    # Fit the encoders with the available data\n",
    "    crop_encoder.fit(['Capsicum', 'Green Chilli'])\n",
    "    # Update with the classes used for training the model\n",
    "    region_encoder.fit(['Colombo', 'Ampara',\n",
    "                        'Anuradhapura', 'Badulla', 'Batticaloa', 'Galle', 'Gampaha', 'Hambantota', 'Jaffna', 'Kalutara', 'Kandy', 'Kegalle', 'Kilinochchi', 'Kurunegala', 'Mannar', 'Matala', 'Monaragala', 'Mullaitivu', 'Nuwara Eliya', 'Polonnaruwa', 'Puttalam', 'Ratnapura', 'Trincomalee', 'Vavuniya'])\n",
    "\n",
    "    # Update with the classes used for training the model\n",
    "    quarter_encoder.fit(['Q1', 'Q2', 'Q3'])\n",
    "\n",
    "    # Encode the input values\n",
    "    input_crop_encoded = crop_encoder.transform([input_data['Crop']])[0]\n",
    "    input_region_encoded = region_encoder.transform([input_data['Region']])[0]\n",
    "    input_quarter_encoded = quarter_encoder.transform(\n",
    "        [input_data['Quarter']])[0]\n",
    "\n",
    "    # Load the trained model\n",
    "    model = load_model('trained_model.h5')\n",
    "\n",
    "    # Preprocess the input data\n",
    "    scaler = MinMaxScaler()\n",
    "    input_data_scaled = scaler.fit_transform(\n",
    "        [[input_crop_encoded, input_region_encoded, input_quarter_encoded]])\n",
    "\n",
    "    # Make predictions\n",
    "    predictions = model.predict(input_data_scaled)\n",
    "\n",
    "    # Fit the scaler with the training data\n",
    "    scaler_output = MinMaxScaler()\n",
    "    # Assuming the target variable was scaled between 0 and 1 during training\n",
    "    scaler_output.fit([[0], [1]])\n",
    "\n",
    "    # Decode the predictions\n",
    "    demand_pred = scaler_output.inverse_transform(\n",
    "        predictions.reshape(-1, 1)).flatten()\n",
    "    supply_pred = scaler_output.inverse_transform(\n",
    "        predictions.reshape(-1, 1)).flatten()\n",
    "    price_pred = scaler_output.inverse_transform(\n",
    "        predictions.reshape(-1, 1)).flatten()\n",
    "\n",
    "    # Print the predictions\n",
    "    print(\"Demand Prediction:\", demand_pred[0])\n",
    "    print(\"Supply Prediction:\", supply_pred[1])\n",
    "    print(\"Price Prediction:\", price_pred[2])\n",
    "\n",
    "    result = json.dumps({\n",
    "        \"Demand\": str(demand_pred[0]),\n",
    "        \"Supply\": str(supply_pred[1]),\n",
    "        \"Price\": str(price_pred[2])})\n",
    "\n",
    "    return Response(response=result, status=200)"
   ]
  },
  {
   "cell_type": "code",
   "execution_count": 4,
   "metadata": {},
   "outputs": [],
   "source": [
    "@app.route('/')\n",
    "def hello_world():\n",
    "    return 'Hello, world!'"
   ]
  },
  {
   "cell_type": "code",
   "execution_count": 5,
   "metadata": {},
   "outputs": [
    {
     "name": "stdout",
     "output_type": "stream",
     "text": [
      " * Serving Flask app '__main__'\n",
      " * Debug mode: off\n"
     ]
    },
    {
     "name": "stderr",
     "output_type": "stream",
     "text": [
      "WARNING: This is a development server. Do not use it in a production deployment. Use a production WSGI server instead.\n",
      " * Running on http://192.168.1.4:5000\n",
      "Press CTRL+C to quit\n"
     ]
    },
    {
     "name": "stdout",
     "output_type": "stream",
     "text": [
      "1/1 [==============================] - 0s 255ms/step\n"
     ]
    },
    {
     "name": "stderr",
     "output_type": "stream",
     "text": [
      "192.168.1.4 - - [31/May/2023 16:15:53] \"POST /predict HTTP/1.1\" 200 -\n"
     ]
    },
    {
     "name": "stdout",
     "output_type": "stream",
     "text": [
      "Demand Prediction: 0.20517631\n",
      "Supply Prediction: 0.18657386\n",
      "Price Prediction: 0.19037451\n",
      "1/1 [==============================] - 0s 73ms/step\n"
     ]
    },
    {
     "name": "stderr",
     "output_type": "stream",
     "text": [
      "192.168.1.4 - - [31/May/2023 16:15:53] \"POST /predict HTTP/1.1\" 200 -\n"
     ]
    },
    {
     "name": "stdout",
     "output_type": "stream",
     "text": [
      "Demand Prediction: 0.20517631\n",
      "Supply Prediction: 0.18657386\n",
      "Price Prediction: 0.19037451\n",
      "1/1 [==============================] - 0s 65ms/step\n"
     ]
    },
    {
     "name": "stderr",
     "output_type": "stream",
     "text": [
      "192.168.1.4 - - [31/May/2023 16:15:53] \"POST /predict HTTP/1.1\" 200 -\n"
     ]
    },
    {
     "name": "stdout",
     "output_type": "stream",
     "text": [
      "Demand Prediction: 0.20517631\n",
      "Supply Prediction: 0.18657386\n",
      "Price Prediction: 0.19037451\n",
      "1/1 [==============================] - 0s 60ms/step\n"
     ]
    },
    {
     "name": "stderr",
     "output_type": "stream",
     "text": [
      "192.168.1.4 - - [31/May/2023 16:15:53] \"POST /predict HTTP/1.1\" 200 -\n"
     ]
    },
    {
     "name": "stdout",
     "output_type": "stream",
     "text": [
      "Demand Prediction: 0.20517631\n",
      "Supply Prediction: 0.18657386\n",
      "Price Prediction: 0.19037451\n",
      "WARNING:tensorflow:5 out of the last 5 calls to <function Model.make_predict_function.<locals>.predict_function at 0x000001957D15D480> triggered tf.function retracing. Tracing is expensive and the excessive number of tracings could be due to (1) creating @tf.function repeatedly in a loop, (2) passing tensors with different shapes, (3) passing Python objects instead of tensors. For (1), please define your @tf.function outside of the loop. For (2), @tf.function has reduce_retracing=True option that can avoid unnecessary retracing. For (3), please refer to https://www.tensorflow.org/guide/function#controlling_retracing and https://www.tensorflow.org/api_docs/python/tf/function for  more details.\n",
      "1/1 [==============================] - 0s 79ms/step\n"
     ]
    },
    {
     "name": "stderr",
     "output_type": "stream",
     "text": [
      "192.168.1.4 - - [31/May/2023 16:15:54] \"POST /predict HTTP/1.1\" 200 -\n"
     ]
    },
    {
     "name": "stdout",
     "output_type": "stream",
     "text": [
      "Demand Prediction: 0.20517631\n",
      "Supply Prediction: 0.18657386\n",
      "Price Prediction: 0.19037451\n",
      "WARNING:tensorflow:6 out of the last 6 calls to <function Model.make_predict_function.<locals>.predict_function at 0x000001957D15C940> triggered tf.function retracing. Tracing is expensive and the excessive number of tracings could be due to (1) creating @tf.function repeatedly in a loop, (2) passing tensors with different shapes, (3) passing Python objects instead of tensors. For (1), please define your @tf.function outside of the loop. For (2), @tf.function has reduce_retracing=True option that can avoid unnecessary retracing. For (3), please refer to https://www.tensorflow.org/guide/function#controlling_retracing and https://www.tensorflow.org/api_docs/python/tf/function for  more details.\n",
      "1/1 [==============================] - 0s 76ms/step\n"
     ]
    },
    {
     "name": "stderr",
     "output_type": "stream",
     "text": [
      "192.168.1.4 - - [31/May/2023 16:15:54] \"POST /predict HTTP/1.1\" 200 -\n"
     ]
    },
    {
     "name": "stdout",
     "output_type": "stream",
     "text": [
      "Demand Prediction: 0.20517631\n",
      "Supply Prediction: 0.18657386\n",
      "Price Prediction: 0.19037451\n",
      "1/1 [==============================] - 0s 69ms/step\n"
     ]
    },
    {
     "name": "stderr",
     "output_type": "stream",
     "text": [
      "192.168.1.4 - - [31/May/2023 16:15:54] \"POST /predict HTTP/1.1\" 200 -\n"
     ]
    },
    {
     "name": "stdout",
     "output_type": "stream",
     "text": [
      "Demand Prediction: 0.20517631\n",
      "Supply Prediction: 0.18657386\n",
      "Price Prediction: 0.19037451\n",
      "1/1 [==============================] - 0s 69ms/step\n"
     ]
    },
    {
     "name": "stderr",
     "output_type": "stream",
     "text": [
      "192.168.1.4 - - [31/May/2023 16:15:54] \"POST /predict HTTP/1.1\" 200 -\n"
     ]
    },
    {
     "name": "stdout",
     "output_type": "stream",
     "text": [
      "Demand Prediction: 0.20517631\n",
      "Supply Prediction: 0.18657386\n",
      "Price Prediction: 0.19037451\n",
      "1/1 [==============================] - 0s 73ms/step\n"
     ]
    },
    {
     "name": "stderr",
     "output_type": "stream",
     "text": [
      "192.168.1.4 - - [31/May/2023 16:15:54] \"POST /predict HTTP/1.1\" 200 -\n"
     ]
    },
    {
     "name": "stdout",
     "output_type": "stream",
     "text": [
      "Demand Prediction: 0.20517631\n",
      "Supply Prediction: 0.18657386\n",
      "Price Prediction: 0.19037451\n",
      "1/1 [==============================] - 0s 63ms/step\n"
     ]
    },
    {
     "name": "stderr",
     "output_type": "stream",
     "text": [
      "192.168.1.4 - - [31/May/2023 16:15:55] \"POST /predict HTTP/1.1\" 200 -\n"
     ]
    },
    {
     "name": "stdout",
     "output_type": "stream",
     "text": [
      "Demand Prediction: 0.20517631\n",
      "Supply Prediction: 0.18657386\n",
      "Price Prediction: 0.19037451\n",
      "1/1 [==============================] - 0s 63ms/step\n"
     ]
    },
    {
     "name": "stderr",
     "output_type": "stream",
     "text": [
      "192.168.1.4 - - [31/May/2023 16:15:55] \"POST /predict HTTP/1.1\" 200 -\n"
     ]
    },
    {
     "name": "stdout",
     "output_type": "stream",
     "text": [
      "Demand Prediction: 0.20517631\n",
      "Supply Prediction: 0.18657386\n",
      "Price Prediction: 0.19037451\n",
      "1/1 [==============================] - 0s 69ms/step\n"
     ]
    },
    {
     "name": "stderr",
     "output_type": "stream",
     "text": [
      "192.168.1.4 - - [31/May/2023 16:15:55] \"POST /predict HTTP/1.1\" 200 -\n"
     ]
    },
    {
     "name": "stdout",
     "output_type": "stream",
     "text": [
      "Demand Prediction: 0.20517631\n",
      "Supply Prediction: 0.18657386\n",
      "Price Prediction: 0.19037451\n",
      "1/1 [==============================] - 0s 59ms/step\n"
     ]
    },
    {
     "name": "stderr",
     "output_type": "stream",
     "text": [
      "192.168.1.4 - - [31/May/2023 16:15:55] \"POST /predict HTTP/1.1\" 200 -\n"
     ]
    },
    {
     "name": "stdout",
     "output_type": "stream",
     "text": [
      "Demand Prediction: 0.20517631\n",
      "Supply Prediction: 0.18657386\n",
      "Price Prediction: 0.19037451\n",
      "1/1 [==============================] - 0s 64ms/step\n"
     ]
    },
    {
     "name": "stderr",
     "output_type": "stream",
     "text": [
      "192.168.1.4 - - [31/May/2023 16:15:56] \"POST /predict HTTP/1.1\" 200 -\n"
     ]
    },
    {
     "name": "stdout",
     "output_type": "stream",
     "text": [
      "Demand Prediction: 0.20517631\n",
      "Supply Prediction: 0.18657386\n",
      "Price Prediction: 0.19037451\n",
      "1/1 [==============================] - 0s 130ms/step\n"
     ]
    },
    {
     "name": "stderr",
     "output_type": "stream",
     "text": [
      "192.168.1.4 - - [31/May/2023 16:15:56] \"POST /predict HTTP/1.1\" 200 -\n"
     ]
    },
    {
     "name": "stdout",
     "output_type": "stream",
     "text": [
      "Demand Prediction: 0.20517631\n",
      "Supply Prediction: 0.18657386\n",
      "Price Prediction: 0.19037451\n",
      "1/1 [==============================] - 0s 95ms/step\n"
     ]
    },
    {
     "name": "stderr",
     "output_type": "stream",
     "text": [
      "192.168.1.4 - - [31/May/2023 16:15:56] \"POST /predict HTTP/1.1\" 200 -\n"
     ]
    },
    {
     "name": "stdout",
     "output_type": "stream",
     "text": [
      "Demand Prediction: 0.20517631\n",
      "Supply Prediction: 0.18657386\n",
      "Price Prediction: 0.19037451\n",
      "1/1 [==============================] - 0s 134ms/step\n"
     ]
    },
    {
     "name": "stderr",
     "output_type": "stream",
     "text": [
      "192.168.1.4 - - [31/May/2023 16:15:57] \"POST /predict HTTP/1.1\" 200 -\n"
     ]
    },
    {
     "name": "stdout",
     "output_type": "stream",
     "text": [
      "Demand Prediction: 0.20517631\n",
      "Supply Prediction: 0.18657386\n",
      "Price Prediction: 0.19037451\n",
      "1/1 [==============================] - 0s 133ms/step\n",
      "1/1 [==============================] - 0s 136ms/step\n"
     ]
    },
    {
     "name": "stderr",
     "output_type": "stream",
     "text": [
      "192.168.1.4 - - [31/May/2023 16:15:57] \"POST /predict HTTP/1.1\" 200 -\n",
      "192.168.1.4 - - [31/May/2023 16:15:57] \"POST /predict HTTP/1.1\" 200 -\n"
     ]
    },
    {
     "name": "stdout",
     "output_type": "stream",
     "text": [
      "Demand Prediction: 0.20517631\n",
      "Supply Prediction: 0.18657386\n",
      "Price Prediction: 0.19037451\n",
      "Demand Prediction: 0.20517631\n",
      "Supply Prediction: 0.18657386\n",
      "Price Prediction: 0.19037451\n",
      "1/1 [==============================] - 0s 67ms/step\n"
     ]
    },
    {
     "name": "stderr",
     "output_type": "stream",
     "text": [
      "192.168.1.4 - - [31/May/2023 16:16:11] \"POST /predict HTTP/1.1\" 200 -\n"
     ]
    },
    {
     "name": "stdout",
     "output_type": "stream",
     "text": [
      "Demand Prediction: 0.20517631\n",
      "Supply Prediction: 0.18657386\n",
      "Price Prediction: 0.19037451\n"
     ]
    }
   ],
   "source": [
    "if __name__ == '__main__':\n",
    "    app.run(host='192.168.1.4', port=5000)"
   ]
  }
 ],
 "metadata": {
  "kernelspec": {
   "display_name": "base",
   "language": "python",
   "name": "python3"
  },
  "language_info": {
   "codemirror_mode": {
    "name": "ipython",
    "version": 3
   },
   "file_extension": ".py",
   "mimetype": "text/x-python",
   "name": "python",
   "nbconvert_exporter": "python",
   "pygments_lexer": "ipython3",
   "version": "3.10.9"
  },
  "orig_nbformat": 4
 },
 "nbformat": 4,
 "nbformat_minor": 2
}
