{
 "cells": [
  {
   "cell_type": "code",
   "execution_count": 1,
   "metadata": {},
   "outputs": [],
   "source": [
    "import tensorflow as tf\n",
    "from tensorflow.keras.models import load_model\n",
    "from sklearn.preprocessing import LabelEncoder, MinMaxScaler\n",
    "import json\n",
    "import numpy as np\n",
    "from flask import Flask, request, Response"
   ]
  },
  {
   "cell_type": "code",
   "execution_count": 2,
   "metadata": {},
   "outputs": [],
   "source": [
    "app = Flask(__name__)"
   ]
  },
  {
   "cell_type": "code",
   "execution_count": 3,
   "metadata": {},
   "outputs": [],
   "source": [
    "@app.route('/predict', methods=['POST'])\n",
    "def Predict():\n",
    " \n",
    "    input_data = request.get_json()\n",
    "\n",
    "    # Preprocess the data\n",
    "    crop_encoder = LabelEncoder()\n",
    "    region_encoder = LabelEncoder()\n",
    "    quarter_encoder = LabelEncoder()\n",
    "\n",
    "    # Fit the encoders with the available data\n",
    "    crop_encoder.fit(['Capsicum', 'Green Chilli'])\n",
    "    # Update with the classes used for training the model\n",
    "    region_encoder.fit(['Colombo', 'Ampara',\n",
    "                        'Anuradhapura', 'Badulla', 'Batticaloa', 'Galle', 'Gampaha', 'Hambantota', 'Jaffna', 'Kalutara', 'Kandy', 'Kegalle', 'Kilinochchi', 'Kurunegala', 'Mannar', 'Matala', 'Monaragala', 'Mullaitivu', 'Nuwara Eliya', 'Polonnaruwa', 'Puttalam', 'Ratnapura', 'Trincomalee', 'Vavuniya'])\n",
    "\n",
    "    # Update with the classes used for training the model\n",
    "    quarter_encoder.fit(['Q1', 'Q2', 'Q3'])\n",
    "\n",
    "    # Encode the input values\n",
    "    input_crop_encoded = crop_encoder.transform([input_data['Crop']])[0]\n",
    "    input_region_encoded = region_encoder.transform([input_data['Region']])[0]\n",
    "    input_quarter_encoded = quarter_encoder.transform(\n",
    "        [input_data['Quarter']])[0]\n",
    "\n",
    "    # Load the trained model\n",
    "    model = load_model('trained_model.h5')\n",
    "\n",
    "    # Preprocess the input data\n",
    "    scaler = MinMaxScaler()\n",
    "    input_data_scaled = scaler.fit_transform(\n",
    "        [[input_crop_encoded, input_region_encoded, input_quarter_encoded]])\n",
    "\n",
    "    # Make predictions\n",
    "    predictions = model.predict(input_data_scaled)\n",
    "\n",
    "    # Fit the scaler with the training data\n",
    "    scaler_output = MinMaxScaler()\n",
    "    # Assuming the target variable was scaled between 0 and 1 during training\n",
    "    scaler_output.fit([[0], [1]])\n",
    "\n",
    "    # Decode the predictions\n",
    "    demand_pred = scaler_output.inverse_transform(\n",
    "        predictions.reshape(-1, 1)).flatten()\n",
    "    supply_pred = scaler_output.inverse_transform(\n",
    "        predictions.reshape(-1, 1)).flatten()\n",
    "    price_pred = scaler_output.inverse_transform(\n",
    "        predictions.reshape(-1, 1)).flatten()\n",
    "\n",
    "    # Print the predictions\n",
    "    print(\"Demand Prediction:\", demand_pred[0])\n",
    "    print(\"Supply Prediction:\", supply_pred[1])\n",
    "    print(\"Price Prediction:\", price_pred[2])\n",
    "\n",
    "    result = json.dumps({\n",
    "        \"Demand\": str(demand_pred[0]),\n",
    "        \"Supply\": str(supply_pred[1]),\n",
    "        \"Price\": str(price_pred[2])})\n",
    "\n",
    "    return Response(response=result, status=200)"
   ]
  },
  {
   "cell_type": "code",
   "execution_count": 4,
   "metadata": {},
   "outputs": [],
   "source": [
    "@app.route('/')\n",
    "def hello_world():\n",
    "    return 'Hello, world!'"
   ]
  },
  {
   "cell_type": "code",
   "execution_count": 5,
   "metadata": {},
   "outputs": [
    {
     "name": "stdout",
     "output_type": "stream",
     "text": [
      " * Serving Flask app '__main__'\n",
      " * Debug mode: off\n"
     ]
    },
    {
     "name": "stderr",
     "output_type": "stream",
     "text": [
      "WARNING: This is a development server. Do not use it in a production deployment. Use a production WSGI server instead.\n",
      " * Running on http://192.168.1.4:5000\n",
      "Press CTRL+C to quit\n"
     ]
    },
    {
     "name": "stdout",
     "output_type": "stream",
     "text": [
      "1/1 [==============================] - 0s 352ms/step\n"
     ]
    },
    {
     "name": "stderr",
     "output_type": "stream",
     "text": [
      "192.168.1.4 - - [29/May/2023 21:18:25] \"POST /predict HTTP/1.1\" 200 -\n"
     ]
    },
    {
     "name": "stdout",
     "output_type": "stream",
     "text": [
      "Demand Prediction: 0.20517631\n",
      "Supply Prediction: 0.18657386\n",
      "Price Prediction: 0.19037451\n",
      "1/1 [==============================] - 0s 195ms/step\n"
     ]
    },
    {
     "name": "stderr",
     "output_type": "stream",
     "text": [
      "192.168.1.4 - - [29/May/2023 21:18:31] \"POST /predict HTTP/1.1\" 200 -\n"
     ]
    },
    {
     "name": "stdout",
     "output_type": "stream",
     "text": [
      "Demand Prediction: 0.20517631\n",
      "Supply Prediction: 0.18657386\n",
      "Price Prediction: 0.19037451\n",
      "1/1 [==============================] - 0s 396ms/step\n"
     ]
    },
    {
     "name": "stderr",
     "output_type": "stream",
     "text": [
      "192.168.1.4 - - [29/May/2023 21:18:43] \"POST /predict HTTP/1.1\" 200 -\n"
     ]
    },
    {
     "name": "stdout",
     "output_type": "stream",
     "text": [
      "Demand Prediction: 0.20517631\n",
      "Supply Prediction: 0.18657386\n",
      "Price Prediction: 0.19037451\n"
     ]
    },
    {
     "name": "stderr",
     "output_type": "stream",
     "text": [
      "[2023-05-29 21:19:15,166] ERROR in app: Exception on /predict [POST]\n",
      "Traceback (most recent call last):\n",
      "  File \"c:\\Users\\JanithGamage\\anaconda3\\lib\\site-packages\\sklearn\\utils\\_encode.py\", line 224, in _encode\n",
      "    return _map_to_integer(values, uniques)\n",
      "  File \"c:\\Users\\JanithGamage\\anaconda3\\lib\\site-packages\\sklearn\\utils\\_encode.py\", line 164, in _map_to_integer\n",
      "    return np.array([table[v] for v in values])\n",
      "  File \"c:\\Users\\JanithGamage\\anaconda3\\lib\\site-packages\\sklearn\\utils\\_encode.py\", line 164, in <listcomp>\n",
      "    return np.array([table[v] for v in values])\n",
      "  File \"c:\\Users\\JanithGamage\\anaconda3\\lib\\site-packages\\sklearn\\utils\\_encode.py\", line 158, in __missing__\n",
      "    raise KeyError(key)\n",
      "KeyError: 'Capsicum (Pr'\n",
      "\n",
      "During handling of the above exception, another exception occurred:\n",
      "\n",
      "Traceback (most recent call last):\n",
      "  File \"c:\\Users\\JanithGamage\\anaconda3\\lib\\site-packages\\flask\\app.py\", line 2525, in wsgi_app\n",
      "    response = self.full_dispatch_request()\n",
      "  File \"c:\\Users\\JanithGamage\\anaconda3\\lib\\site-packages\\flask\\app.py\", line 1822, in full_dispatch_request\n",
      "    rv = self.handle_user_exception(e)\n",
      "  File \"c:\\Users\\JanithGamage\\anaconda3\\lib\\site-packages\\flask\\app.py\", line 1820, in full_dispatch_request\n",
      "    rv = self.dispatch_request()\n",
      "  File \"c:\\Users\\JanithGamage\\anaconda3\\lib\\site-packages\\flask\\app.py\", line 1796, in dispatch_request\n",
      "    return self.ensure_sync(self.view_functions[rule.endpoint])(**view_args)\n",
      "  File \"C:\\Users\\JanithGamage\\AppData\\Local\\Temp\\ipykernel_23728\\244694887.py\", line 21, in Predict\n",
      "    input_crop_encoded = crop_encoder.transform([input_data['Crop']])[0]\n",
      "  File \"c:\\Users\\JanithGamage\\anaconda3\\lib\\site-packages\\sklearn\\utils\\_set_output.py\", line 142, in wrapped\n",
      "    data_to_wrap = f(self, X, *args, **kwargs)\n",
      "  File \"c:\\Users\\JanithGamage\\anaconda3\\lib\\site-packages\\sklearn\\preprocessing\\_label.py\", line 139, in transform\n",
      "    return _encode(y, uniques=self.classes_)\n",
      "  File \"c:\\Users\\JanithGamage\\anaconda3\\lib\\site-packages\\sklearn\\utils\\_encode.py\", line 226, in _encode\n",
      "    raise ValueError(f\"y contains previously unseen labels: {str(e)}\")\n",
      "ValueError: y contains previously unseen labels: 'Capsicum (Pr'\n",
      "192.168.1.4 - - [29/May/2023 21:19:15] \"POST /predict HTTP/1.1\" 500 -\n"
     ]
    },
    {
     "name": "stdout",
     "output_type": "stream",
     "text": [
      "1/1 [==============================] - 0s 247ms/step\n"
     ]
    },
    {
     "name": "stderr",
     "output_type": "stream",
     "text": [
      "192.168.1.4 - - [29/May/2023 21:19:34] \"POST /predict HTTP/1.1\" 200 -\n"
     ]
    },
    {
     "name": "stdout",
     "output_type": "stream",
     "text": [
      "Demand Prediction: 0.20517631\n",
      "Supply Prediction: 0.18657386\n",
      "Price Prediction: 0.19037451\n",
      "WARNING:tensorflow:5 out of the last 5 calls to <function Model.make_predict_function.<locals>.predict_function at 0x0000022F2097C310> triggered tf.function retracing. Tracing is expensive and the excessive number of tracings could be due to (1) creating @tf.function repeatedly in a loop, (2) passing tensors with different shapes, (3) passing Python objects instead of tensors. For (1), please define your @tf.function outside of the loop. For (2), @tf.function has reduce_retracing=True option that can avoid unnecessary retracing. For (3), please refer to https://www.tensorflow.org/guide/function#controlling_retracing and https://www.tensorflow.org/api_docs/python/tf/function for  more details.\n",
      "1/1 [==============================] - 0s 117ms/step\n"
     ]
    },
    {
     "name": "stderr",
     "output_type": "stream",
     "text": [
      "192.168.1.4 - - [29/May/2023 21:19:38] \"POST /predict HTTP/1.1\" 200 -\n"
     ]
    },
    {
     "name": "stdout",
     "output_type": "stream",
     "text": [
      "Demand Prediction: 0.20517631\n",
      "Supply Prediction: 0.18657386\n",
      "Price Prediction: 0.19037451\n",
      "WARNING:tensorflow:6 out of the last 6 calls to <function Model.make_predict_function.<locals>.predict_function at 0x0000022F20A1CF70> triggered tf.function retracing. Tracing is expensive and the excessive number of tracings could be due to (1) creating @tf.function repeatedly in a loop, (2) passing tensors with different shapes, (3) passing Python objects instead of tensors. For (1), please define your @tf.function outside of the loop. For (2), @tf.function has reduce_retracing=True option that can avoid unnecessary retracing. For (3), please refer to https://www.tensorflow.org/guide/function#controlling_retracing and https://www.tensorflow.org/api_docs/python/tf/function for  more details.\n",
      "1/1 [==============================] - 0s 110ms/step\n"
     ]
    },
    {
     "name": "stderr",
     "output_type": "stream",
     "text": [
      "192.168.1.4 - - [29/May/2023 21:19:40] \"POST /predict HTTP/1.1\" 200 -\n"
     ]
    },
    {
     "name": "stdout",
     "output_type": "stream",
     "text": [
      "Demand Prediction: 0.20517631\n",
      "Supply Prediction: 0.18657386\n",
      "Price Prediction: 0.19037451\n",
      "1/1 [==============================] - 0s 110ms/step\n"
     ]
    },
    {
     "name": "stderr",
     "output_type": "stream",
     "text": [
      "192.168.1.4 - - [29/May/2023 21:19:41] \"POST /predict HTTP/1.1\" 200 -\n"
     ]
    },
    {
     "name": "stdout",
     "output_type": "stream",
     "text": [
      "Demand Prediction: 0.20517631\n",
      "Supply Prediction: 0.18657386\n",
      "Price Prediction: 0.19037451\n",
      "1/1 [==============================] - 0s 111ms/step\n"
     ]
    },
    {
     "name": "stderr",
     "output_type": "stream",
     "text": [
      "192.168.1.4 - - [29/May/2023 21:19:42] \"POST /predict HTTP/1.1\" 200 -\n"
     ]
    },
    {
     "name": "stdout",
     "output_type": "stream",
     "text": [
      "Demand Prediction: 0.20517631\n",
      "Supply Prediction: 0.18657386\n",
      "Price Prediction: 0.19037451\n",
      "1/1 [==============================] - 0s 115ms/step\n"
     ]
    },
    {
     "name": "stderr",
     "output_type": "stream",
     "text": [
      "192.168.1.4 - - [29/May/2023 21:19:43] \"POST /predict HTTP/1.1\" 200 -\n"
     ]
    },
    {
     "name": "stdout",
     "output_type": "stream",
     "text": [
      "Demand Prediction: 0.20517631\n",
      "Supply Prediction: 0.18657386\n",
      "Price Prediction: 0.19037451\n",
      "1/1 [==============================] - 0s 117ms/step\n"
     ]
    },
    {
     "name": "stderr",
     "output_type": "stream",
     "text": [
      "192.168.1.4 - - [29/May/2023 21:19:44] \"POST /predict HTTP/1.1\" 200 -\n"
     ]
    },
    {
     "name": "stdout",
     "output_type": "stream",
     "text": [
      "Demand Prediction: 0.20517631\n",
      "Supply Prediction: 0.18657386\n",
      "Price Prediction: 0.19037451\n",
      "1/1 [==============================] - 0s 133ms/step\n"
     ]
    },
    {
     "name": "stderr",
     "output_type": "stream",
     "text": [
      "192.168.1.4 - - [29/May/2023 21:19:45] \"POST /predict HTTP/1.1\" 200 -\n"
     ]
    },
    {
     "name": "stdout",
     "output_type": "stream",
     "text": [
      "Demand Prediction: 0.20517631\n",
      "Supply Prediction: 0.18657386\n",
      "Price Prediction: 0.19037451\n",
      "1/1 [==============================] - 0s 201ms/step\n"
     ]
    },
    {
     "name": "stderr",
     "output_type": "stream",
     "text": [
      "192.168.1.4 - - [29/May/2023 21:20:26] \"POST /predict HTTP/1.1\" 200 -\n"
     ]
    },
    {
     "name": "stdout",
     "output_type": "stream",
     "text": [
      "Demand Prediction: 0.20517631\n",
      "Supply Prediction: 0.18657386\n",
      "Price Prediction: 0.19037451\n",
      "1/1 [==============================] - 0s 245ms/step\n"
     ]
    },
    {
     "name": "stderr",
     "output_type": "stream",
     "text": [
      "192.168.1.4 - - [29/May/2023 21:20:37] \"POST /predict HTTP/1.1\" 200 -\n"
     ]
    },
    {
     "name": "stdout",
     "output_type": "stream",
     "text": [
      "Demand Prediction: 0.20517631\n",
      "Supply Prediction: 0.18657386\n",
      "Price Prediction: 0.19037451\n"
     ]
    },
    {
     "name": "stderr",
     "output_type": "stream",
     "text": [
      "[2023-05-29 21:20:48,135] ERROR in app: Exception on /predict [POST]\n",
      "Traceback (most recent call last):\n",
      "  File \"c:\\Users\\JanithGamage\\anaconda3\\lib\\site-packages\\sklearn\\utils\\_encode.py\", line 224, in _encode\n",
      "    return _map_to_integer(values, uniques)\n",
      "  File \"c:\\Users\\JanithGamage\\anaconda3\\lib\\site-packages\\sklearn\\utils\\_encode.py\", line 164, in _map_to_integer\n",
      "    return np.array([table[v] for v in values])\n",
      "  File \"c:\\Users\\JanithGamage\\anaconda3\\lib\\site-packages\\sklearn\\utils\\_encode.py\", line 164, in <listcomp>\n",
      "    return np.array([table[v] for v in values])\n",
      "  File \"c:\\Users\\JanithGamage\\anaconda3\\lib\\site-packages\\sklearn\\utils\\_encode.py\", line 158, in __missing__\n",
      "    raise KeyError(key)\n",
      "KeyError: 'Ma'\n",
      "\n",
      "During handling of the above exception, another exception occurred:\n",
      "\n",
      "Traceback (most recent call last):\n",
      "  File \"c:\\Users\\JanithGamage\\anaconda3\\lib\\site-packages\\flask\\app.py\", line 2525, in wsgi_app\n",
      "    response = self.full_dispatch_request()\n",
      "  File \"c:\\Users\\JanithGamage\\anaconda3\\lib\\site-packages\\flask\\app.py\", line 1822, in full_dispatch_request\n",
      "    rv = self.handle_user_exception(e)\n",
      "  File \"c:\\Users\\JanithGamage\\anaconda3\\lib\\site-packages\\flask\\app.py\", line 1820, in full_dispatch_request\n",
      "    rv = self.dispatch_request()\n",
      "  File \"c:\\Users\\JanithGamage\\anaconda3\\lib\\site-packages\\flask\\app.py\", line 1796, in dispatch_request\n",
      "    return self.ensure_sync(self.view_functions[rule.endpoint])(**view_args)\n",
      "  File \"C:\\Users\\JanithGamage\\AppData\\Local\\Temp\\ipykernel_23728\\244694887.py\", line 23, in Predict\n",
      "    input_quarter_encoded = quarter_encoder.transform(\n",
      "  File \"c:\\Users\\JanithGamage\\anaconda3\\lib\\site-packages\\sklearn\\utils\\_set_output.py\", line 142, in wrapped\n",
      "    data_to_wrap = f(self, X, *args, **kwargs)\n",
      "  File \"c:\\Users\\JanithGamage\\anaconda3\\lib\\site-packages\\sklearn\\preprocessing\\_label.py\", line 139, in transform\n",
      "    return _encode(y, uniques=self.classes_)\n",
      "  File \"c:\\Users\\JanithGamage\\anaconda3\\lib\\site-packages\\sklearn\\utils\\_encode.py\", line 226, in _encode\n",
      "    raise ValueError(f\"y contains previously unseen labels: {str(e)}\")\n",
      "ValueError: y contains previously unseen labels: 'Ma'\n",
      "192.168.1.4 - - [29/May/2023 21:20:48] \"POST /predict HTTP/1.1\" 500 -\n",
      "[2023-05-29 21:20:55,012] ERROR in app: Exception on /predict [POST]\n",
      "Traceback (most recent call last):\n",
      "  File \"c:\\Users\\JanithGamage\\anaconda3\\lib\\site-packages\\sklearn\\utils\\_encode.py\", line 224, in _encode\n",
      "    return _map_to_integer(values, uniques)\n",
      "  File \"c:\\Users\\JanithGamage\\anaconda3\\lib\\site-packages\\sklearn\\utils\\_encode.py\", line 164, in _map_to_integer\n",
      "    return np.array([table[v] for v in values])\n",
      "  File \"c:\\Users\\JanithGamage\\anaconda3\\lib\\site-packages\\sklearn\\utils\\_encode.py\", line 164, in <listcomp>\n",
      "    return np.array([table[v] for v in values])\n",
      "  File \"c:\\Users\\JanithGamage\\anaconda3\\lib\\site-packages\\sklearn\\utils\\_encode.py\", line 158, in __missing__\n",
      "    raise KeyError(key)\n",
      "KeyError: 'Ma'\n",
      "\n",
      "During handling of the above exception, another exception occurred:\n",
      "\n",
      "Traceback (most recent call last):\n",
      "  File \"c:\\Users\\JanithGamage\\anaconda3\\lib\\site-packages\\flask\\app.py\", line 2525, in wsgi_app\n",
      "    response = self.full_dispatch_request()\n",
      "  File \"c:\\Users\\JanithGamage\\anaconda3\\lib\\site-packages\\flask\\app.py\", line 1822, in full_dispatch_request\n",
      "    rv = self.handle_user_exception(e)\n",
      "  File \"c:\\Users\\JanithGamage\\anaconda3\\lib\\site-packages\\flask\\app.py\", line 1820, in full_dispatch_request\n",
      "    rv = self.dispatch_request()\n",
      "  File \"c:\\Users\\JanithGamage\\anaconda3\\lib\\site-packages\\flask\\app.py\", line 1796, in dispatch_request\n",
      "    return self.ensure_sync(self.view_functions[rule.endpoint])(**view_args)\n",
      "  File \"C:\\Users\\JanithGamage\\AppData\\Local\\Temp\\ipykernel_23728\\244694887.py\", line 23, in Predict\n",
      "    input_quarter_encoded = quarter_encoder.transform(\n",
      "  File \"c:\\Users\\JanithGamage\\anaconda3\\lib\\site-packages\\sklearn\\utils\\_set_output.py\", line 142, in wrapped\n",
      "    data_to_wrap = f(self, X, *args, **kwargs)\n",
      "  File \"c:\\Users\\JanithGamage\\anaconda3\\lib\\site-packages\\sklearn\\preprocessing\\_label.py\", line 139, in transform\n",
      "    return _encode(y, uniques=self.classes_)\n",
      "  File \"c:\\Users\\JanithGamage\\anaconda3\\lib\\site-packages\\sklearn\\utils\\_encode.py\", line 226, in _encode\n",
      "    raise ValueError(f\"y contains previously unseen labels: {str(e)}\")\n",
      "ValueError: y contains previously unseen labels: 'Ma'\n",
      "192.168.1.4 - - [29/May/2023 21:20:55] \"POST /predict HTTP/1.1\" 500 -\n",
      "[2023-05-29 21:21:05,964] ERROR in app: Exception on /predict [POST]\n",
      "Traceback (most recent call last):\n",
      "  File \"c:\\Users\\JanithGamage\\anaconda3\\lib\\site-packages\\sklearn\\utils\\_encode.py\", line 224, in _encode\n",
      "    return _map_to_integer(values, uniques)\n",
      "  File \"c:\\Users\\JanithGamage\\anaconda3\\lib\\site-packages\\sklearn\\utils\\_encode.py\", line 164, in _map_to_integer\n",
      "    return np.array([table[v] for v in values])\n",
      "  File \"c:\\Users\\JanithGamage\\anaconda3\\lib\\site-packages\\sklearn\\utils\\_encode.py\", line 164, in <listcomp>\n",
      "    return np.array([table[v] for v in values])\n",
      "  File \"c:\\Users\\JanithGamage\\anaconda3\\lib\\site-packages\\sklearn\\utils\\_encode.py\", line 158, in __missing__\n",
      "    raise KeyError(key)\n",
      "KeyError: 'Ma'\n",
      "\n",
      "During handling of the above exception, another exception occurred:\n",
      "\n",
      "Traceback (most recent call last):\n",
      "  File \"c:\\Users\\JanithGamage\\anaconda3\\lib\\site-packages\\flask\\app.py\", line 2525, in wsgi_app\n",
      "    response = self.full_dispatch_request()\n",
      "  File \"c:\\Users\\JanithGamage\\anaconda3\\lib\\site-packages\\flask\\app.py\", line 1822, in full_dispatch_request\n",
      "    rv = self.handle_user_exception(e)\n",
      "  File \"c:\\Users\\JanithGamage\\anaconda3\\lib\\site-packages\\flask\\app.py\", line 1820, in full_dispatch_request\n",
      "    rv = self.dispatch_request()\n",
      "  File \"c:\\Users\\JanithGamage\\anaconda3\\lib\\site-packages\\flask\\app.py\", line 1796, in dispatch_request\n",
      "    return self.ensure_sync(self.view_functions[rule.endpoint])(**view_args)\n",
      "  File \"C:\\Users\\JanithGamage\\AppData\\Local\\Temp\\ipykernel_23728\\244694887.py\", line 23, in Predict\n",
      "    input_quarter_encoded = quarter_encoder.transform(\n",
      "  File \"c:\\Users\\JanithGamage\\anaconda3\\lib\\site-packages\\sklearn\\utils\\_set_output.py\", line 142, in wrapped\n",
      "    data_to_wrap = f(self, X, *args, **kwargs)\n",
      "  File \"c:\\Users\\JanithGamage\\anaconda3\\lib\\site-packages\\sklearn\\preprocessing\\_label.py\", line 139, in transform\n",
      "    return _encode(y, uniques=self.classes_)\n",
      "  File \"c:\\Users\\JanithGamage\\anaconda3\\lib\\site-packages\\sklearn\\utils\\_encode.py\", line 226, in _encode\n",
      "    raise ValueError(f\"y contains previously unseen labels: {str(e)}\")\n",
      "ValueError: y contains previously unseen labels: 'Ma'\n",
      "192.168.1.4 - - [29/May/2023 21:21:05] \"POST /predict HTTP/1.1\" 500 -\n",
      "[2023-05-29 21:21:36,493] ERROR in app: Exception on /predict [POST]\n",
      "Traceback (most recent call last):\n",
      "  File \"c:\\Users\\JanithGamage\\anaconda3\\lib\\site-packages\\sklearn\\utils\\_encode.py\", line 224, in _encode\n",
      "    return _map_to_integer(values, uniques)\n",
      "  File \"c:\\Users\\JanithGamage\\anaconda3\\lib\\site-packages\\sklearn\\utils\\_encode.py\", line 164, in _map_to_integer\n",
      "    return np.array([table[v] for v in values])\n",
      "  File \"c:\\Users\\JanithGamage\\anaconda3\\lib\\site-packages\\sklearn\\utils\\_encode.py\", line 164, in <listcomp>\n",
      "    return np.array([table[v] for v in values])\n",
      "  File \"c:\\Users\\JanithGamage\\anaconda3\\lib\\site-packages\\sklearn\\utils\\_encode.py\", line 158, in __missing__\n",
      "    raise KeyError(key)\n",
      "KeyError: 'Ma'\n",
      "\n",
      "During handling of the above exception, another exception occurred:\n",
      "\n",
      "Traceback (most recent call last):\n",
      "  File \"c:\\Users\\JanithGamage\\anaconda3\\lib\\site-packages\\flask\\app.py\", line 2525, in wsgi_app\n",
      "    response = self.full_dispatch_request()\n",
      "  File \"c:\\Users\\JanithGamage\\anaconda3\\lib\\site-packages\\flask\\app.py\", line 1822, in full_dispatch_request\n",
      "    rv = self.handle_user_exception(e)\n",
      "  File \"c:\\Users\\JanithGamage\\anaconda3\\lib\\site-packages\\flask\\app.py\", line 1820, in full_dispatch_request\n",
      "    rv = self.dispatch_request()\n",
      "  File \"c:\\Users\\JanithGamage\\anaconda3\\lib\\site-packages\\flask\\app.py\", line 1796, in dispatch_request\n",
      "    return self.ensure_sync(self.view_functions[rule.endpoint])(**view_args)\n",
      "  File \"C:\\Users\\JanithGamage\\AppData\\Local\\Temp\\ipykernel_23728\\244694887.py\", line 23, in Predict\n",
      "    input_quarter_encoded = quarter_encoder.transform(\n",
      "  File \"c:\\Users\\JanithGamage\\anaconda3\\lib\\site-packages\\sklearn\\utils\\_set_output.py\", line 142, in wrapped\n",
      "    data_to_wrap = f(self, X, *args, **kwargs)\n",
      "  File \"c:\\Users\\JanithGamage\\anaconda3\\lib\\site-packages\\sklearn\\preprocessing\\_label.py\", line 139, in transform\n",
      "    return _encode(y, uniques=self.classes_)\n",
      "  File \"c:\\Users\\JanithGamage\\anaconda3\\lib\\site-packages\\sklearn\\utils\\_encode.py\", line 226, in _encode\n",
      "    raise ValueError(f\"y contains previously unseen labels: {str(e)}\")\n",
      "ValueError: y contains previously unseen labels: 'Ma'\n",
      "192.168.1.4 - - [29/May/2023 21:21:36] \"POST /predict HTTP/1.1\" 500 -\n",
      "[2023-05-29 21:21:37,651] ERROR in app: Exception on /predict [POST]\n",
      "Traceback (most recent call last):\n",
      "  File \"c:\\Users\\JanithGamage\\anaconda3\\lib\\site-packages\\sklearn\\utils\\_encode.py\", line 224, in _encode\n",
      "    return _map_to_integer(values, uniques)\n",
      "  File \"c:\\Users\\JanithGamage\\anaconda3\\lib\\site-packages\\sklearn\\utils\\_encode.py\", line 164, in _map_to_integer\n",
      "    return np.array([table[v] for v in values])\n",
      "  File \"c:\\Users\\JanithGamage\\anaconda3\\lib\\site-packages\\sklearn\\utils\\_encode.py\", line 164, in <listcomp>\n",
      "    return np.array([table[v] for v in values])\n",
      "  File \"c:\\Users\\JanithGamage\\anaconda3\\lib\\site-packages\\sklearn\\utils\\_encode.py\", line 158, in __missing__\n",
      "    raise KeyError(key)\n",
      "KeyError: 'Ma'\n",
      "\n",
      "During handling of the above exception, another exception occurred:\n",
      "\n",
      "Traceback (most recent call last):\n",
      "  File \"c:\\Users\\JanithGamage\\anaconda3\\lib\\site-packages\\flask\\app.py\", line 2525, in wsgi_app\n",
      "    response = self.full_dispatch_request()\n",
      "  File \"c:\\Users\\JanithGamage\\anaconda3\\lib\\site-packages\\flask\\app.py\", line 1822, in full_dispatch_request\n",
      "    rv = self.handle_user_exception(e)\n",
      "  File \"c:\\Users\\JanithGamage\\anaconda3\\lib\\site-packages\\flask\\app.py\", line 1820, in full_dispatch_request\n",
      "    rv = self.dispatch_request()\n",
      "  File \"c:\\Users\\JanithGamage\\anaconda3\\lib\\site-packages\\flask\\app.py\", line 1796, in dispatch_request\n",
      "    return self.ensure_sync(self.view_functions[rule.endpoint])(**view_args)\n",
      "  File \"C:\\Users\\JanithGamage\\AppData\\Local\\Temp\\ipykernel_23728\\244694887.py\", line 23, in Predict\n",
      "    input_quarter_encoded = quarter_encoder.transform(\n",
      "  File \"c:\\Users\\JanithGamage\\anaconda3\\lib\\site-packages\\sklearn\\utils\\_set_output.py\", line 142, in wrapped\n",
      "    data_to_wrap = f(self, X, *args, **kwargs)\n",
      "  File \"c:\\Users\\JanithGamage\\anaconda3\\lib\\site-packages\\sklearn\\preprocessing\\_label.py\", line 139, in transform\n",
      "    return _encode(y, uniques=self.classes_)\n",
      "  File \"c:\\Users\\JanithGamage\\anaconda3\\lib\\site-packages\\sklearn\\utils\\_encode.py\", line 226, in _encode\n",
      "    raise ValueError(f\"y contains previously unseen labels: {str(e)}\")\n",
      "ValueError: y contains previously unseen labels: 'Ma'\n",
      "192.168.1.4 - - [29/May/2023 21:21:37] \"POST /predict HTTP/1.1\" 500 -\n",
      "[2023-05-29 21:21:48,613] ERROR in app: Exception on /predict [POST]\n",
      "Traceback (most recent call last):\n",
      "  File \"c:\\Users\\JanithGamage\\anaconda3\\lib\\site-packages\\sklearn\\utils\\_encode.py\", line 224, in _encode\n",
      "    return _map_to_integer(values, uniques)\n",
      "  File \"c:\\Users\\JanithGamage\\anaconda3\\lib\\site-packages\\sklearn\\utils\\_encode.py\", line 164, in _map_to_integer\n",
      "    return np.array([table[v] for v in values])\n",
      "  File \"c:\\Users\\JanithGamage\\anaconda3\\lib\\site-packages\\sklearn\\utils\\_encode.py\", line 164, in <listcomp>\n",
      "    return np.array([table[v] for v in values])\n",
      "  File \"c:\\Users\\JanithGamage\\anaconda3\\lib\\site-packages\\sklearn\\utils\\_encode.py\", line 158, in __missing__\n",
      "    raise KeyError(key)\n",
      "KeyError: 'Ma'\n",
      "\n",
      "During handling of the above exception, another exception occurred:\n",
      "\n",
      "Traceback (most recent call last):\n",
      "  File \"c:\\Users\\JanithGamage\\anaconda3\\lib\\site-packages\\flask\\app.py\", line 2525, in wsgi_app\n",
      "    response = self.full_dispatch_request()\n",
      "  File \"c:\\Users\\JanithGamage\\anaconda3\\lib\\site-packages\\flask\\app.py\", line 1822, in full_dispatch_request\n",
      "    rv = self.handle_user_exception(e)\n",
      "  File \"c:\\Users\\JanithGamage\\anaconda3\\lib\\site-packages\\flask\\app.py\", line 1820, in full_dispatch_request\n",
      "    rv = self.dispatch_request()\n",
      "  File \"c:\\Users\\JanithGamage\\anaconda3\\lib\\site-packages\\flask\\app.py\", line 1796, in dispatch_request\n",
      "    return self.ensure_sync(self.view_functions[rule.endpoint])(**view_args)\n",
      "  File \"C:\\Users\\JanithGamage\\AppData\\Local\\Temp\\ipykernel_23728\\244694887.py\", line 23, in Predict\n",
      "    input_quarter_encoded = quarter_encoder.transform(\n",
      "  File \"c:\\Users\\JanithGamage\\anaconda3\\lib\\site-packages\\sklearn\\utils\\_set_output.py\", line 142, in wrapped\n",
      "    data_to_wrap = f(self, X, *args, **kwargs)\n",
      "  File \"c:\\Users\\JanithGamage\\anaconda3\\lib\\site-packages\\sklearn\\preprocessing\\_label.py\", line 139, in transform\n",
      "    return _encode(y, uniques=self.classes_)\n",
      "  File \"c:\\Users\\JanithGamage\\anaconda3\\lib\\site-packages\\sklearn\\utils\\_encode.py\", line 226, in _encode\n",
      "    raise ValueError(f\"y contains previously unseen labels: {str(e)}\")\n",
      "ValueError: y contains previously unseen labels: 'Ma'\n",
      "192.168.1.4 - - [29/May/2023 21:21:48] \"POST /predict HTTP/1.1\" 500 -\n",
      "[2023-05-29 21:21:49,948] ERROR in app: Exception on /predict [POST]\n",
      "Traceback (most recent call last):\n",
      "  File \"c:\\Users\\JanithGamage\\anaconda3\\lib\\site-packages\\sklearn\\utils\\_encode.py\", line 224, in _encode\n",
      "    return _map_to_integer(values, uniques)\n",
      "  File \"c:\\Users\\JanithGamage\\anaconda3\\lib\\site-packages\\sklearn\\utils\\_encode.py\", line 164, in _map_to_integer\n",
      "    return np.array([table[v] for v in values])\n",
      "  File \"c:\\Users\\JanithGamage\\anaconda3\\lib\\site-packages\\sklearn\\utils\\_encode.py\", line 164, in <listcomp>\n",
      "    return np.array([table[v] for v in values])\n",
      "  File \"c:\\Users\\JanithGamage\\anaconda3\\lib\\site-packages\\sklearn\\utils\\_encode.py\", line 158, in __missing__\n",
      "    raise KeyError(key)\n",
      "KeyError: 'Ma'\n",
      "\n",
      "During handling of the above exception, another exception occurred:\n",
      "\n",
      "Traceback (most recent call last):\n",
      "  File \"c:\\Users\\JanithGamage\\anaconda3\\lib\\site-packages\\flask\\app.py\", line 2525, in wsgi_app\n",
      "    response = self.full_dispatch_request()\n",
      "  File \"c:\\Users\\JanithGamage\\anaconda3\\lib\\site-packages\\flask\\app.py\", line 1822, in full_dispatch_request\n",
      "    rv = self.handle_user_exception(e)\n",
      "  File \"c:\\Users\\JanithGamage\\anaconda3\\lib\\site-packages\\flask\\app.py\", line 1820, in full_dispatch_request\n",
      "    rv = self.dispatch_request()\n",
      "  File \"c:\\Users\\JanithGamage\\anaconda3\\lib\\site-packages\\flask\\app.py\", line 1796, in dispatch_request\n",
      "    return self.ensure_sync(self.view_functions[rule.endpoint])(**view_args)\n",
      "  File \"C:\\Users\\JanithGamage\\AppData\\Local\\Temp\\ipykernel_23728\\244694887.py\", line 23, in Predict\n",
      "    input_quarter_encoded = quarter_encoder.transform(\n",
      "  File \"c:\\Users\\JanithGamage\\anaconda3\\lib\\site-packages\\sklearn\\utils\\_set_output.py\", line 142, in wrapped\n",
      "    data_to_wrap = f(self, X, *args, **kwargs)\n",
      "  File \"c:\\Users\\JanithGamage\\anaconda3\\lib\\site-packages\\sklearn\\preprocessing\\_label.py\", line 139, in transform\n",
      "    return _encode(y, uniques=self.classes_)\n",
      "  File \"c:\\Users\\JanithGamage\\anaconda3\\lib\\site-packages\\sklearn\\utils\\_encode.py\", line 226, in _encode\n",
      "    raise ValueError(f\"y contains previously unseen labels: {str(e)}\")\n",
      "ValueError: y contains previously unseen labels: 'Ma'\n",
      "192.168.1.4 - - [29/May/2023 21:21:49] \"POST /predict HTTP/1.1\" 500 -\n"
     ]
    },
    {
     "name": "stdout",
     "output_type": "stream",
     "text": [
      "1/1 [==============================] - 0s 421ms/step\n"
     ]
    },
    {
     "name": "stderr",
     "output_type": "stream",
     "text": [
      "192.168.1.4 - - [29/May/2023 21:22:07] \"POST /predict HTTP/1.1\" 200 -\n"
     ]
    },
    {
     "name": "stdout",
     "output_type": "stream",
     "text": [
      "Demand Prediction: 0.20517631\n",
      "Supply Prediction: 0.18657386\n",
      "Price Prediction: 0.19037451\n",
      "1/1 [==============================] - 0s 169ms/step\n"
     ]
    },
    {
     "name": "stderr",
     "output_type": "stream",
     "text": [
      "192.168.1.4 - - [29/May/2023 21:22:08] \"POST /predict HTTP/1.1\" 200 -\n"
     ]
    },
    {
     "name": "stdout",
     "output_type": "stream",
     "text": [
      "Demand Prediction: 0.20517631\n",
      "Supply Prediction: 0.18657386\n",
      "Price Prediction: 0.19037451\n",
      "1/1 [==============================] - 0s 196ms/step\n"
     ]
    },
    {
     "name": "stderr",
     "output_type": "stream",
     "text": [
      "192.168.1.4 - - [29/May/2023 21:22:21] \"POST /predict HTTP/1.1\" 200 -\n"
     ]
    },
    {
     "name": "stdout",
     "output_type": "stream",
     "text": [
      "Demand Prediction: 0.20517631\n",
      "Supply Prediction: 0.18657386\n",
      "Price Prediction: 0.19037451\n",
      "1/1 [==============================] - 0s 178ms/step\n"
     ]
    },
    {
     "name": "stderr",
     "output_type": "stream",
     "text": [
      "192.168.1.4 - - [29/May/2023 21:22:22] \"POST /predict HTTP/1.1\" 200 -\n"
     ]
    },
    {
     "name": "stdout",
     "output_type": "stream",
     "text": [
      "Demand Prediction: 0.20517631\n",
      "Supply Prediction: 0.18657386\n",
      "Price Prediction: 0.19037451\n",
      "1/1 [==============================] - 0s 143ms/step\n"
     ]
    },
    {
     "name": "stderr",
     "output_type": "stream",
     "text": [
      "192.168.1.4 - - [29/May/2023 21:23:19] \"POST /predict HTTP/1.1\" 200 -\n"
     ]
    },
    {
     "name": "stdout",
     "output_type": "stream",
     "text": [
      "Demand Prediction: 0.20517631\n",
      "Supply Prediction: 0.18657386\n",
      "Price Prediction: 0.19037451\n",
      "1/1 [==============================] - 0s 123ms/step\n"
     ]
    },
    {
     "name": "stderr",
     "output_type": "stream",
     "text": [
      "192.168.1.4 - - [29/May/2023 21:24:56] \"POST /predict HTTP/1.1\" 200 -\n"
     ]
    },
    {
     "name": "stdout",
     "output_type": "stream",
     "text": [
      "Demand Prediction: 0.20517631\n",
      "Supply Prediction: 0.18657386\n",
      "Price Prediction: 0.19037451\n"
     ]
    }
   ],
   "source": [
    "if __name__ == '__main__':\n",
    "    app.run(host='192.168.1.4', port=5000)"
   ]
  }
 ],
 "metadata": {
  "kernelspec": {
   "display_name": "base",
   "language": "python",
   "name": "python3"
  },
  "language_info": {
   "codemirror_mode": {
    "name": "ipython",
    "version": 3
   },
   "file_extension": ".py",
   "mimetype": "text/x-python",
   "name": "python",
   "nbconvert_exporter": "python",
   "pygments_lexer": "ipython3",
   "version": "3.10.9"
  },
  "orig_nbformat": 4
 },
 "nbformat": 4,
 "nbformat_minor": 2
}
