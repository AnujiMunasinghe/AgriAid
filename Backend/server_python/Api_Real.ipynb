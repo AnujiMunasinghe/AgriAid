{
 "cells": [
  {
   "cell_type": "code",
   "execution_count": 1,
   "id": "5af1abd6",
   "metadata": {},
   "outputs": [
    {
     "name": "stdout",
     "output_type": "stream",
     "text": [
      "Requirement already satisfied: Flask in c:\\users\\futuremind\\appdata\\local\\programs\\python\\python39\\lib\\site-packages (2.2.3)\n",
      "Requirement already satisfied: importlib-metadata>=3.6.0 in c:\\users\\futuremind\\appdata\\local\\programs\\python\\python39\\lib\\site-packages (from Flask) (6.0.0)\n",
      "Requirement already satisfied: Werkzeug>=2.2.2 in c:\\users\\futuremind\\appdata\\local\\programs\\python\\python39\\lib\\site-packages (from Flask) (2.2.3)\n",
      "Requirement already satisfied: click>=8.0 in c:\\users\\futuremind\\appdata\\local\\programs\\python\\python39\\lib\\site-packages (from Flask) (8.1.3)\n",
      "Requirement already satisfied: itsdangerous>=2.0 in c:\\users\\futuremind\\appdata\\local\\programs\\python\\python39\\lib\\site-packages (from Flask) (2.1.2)\n",
      "Requirement already satisfied: Jinja2>=3.0 in c:\\users\\futuremind\\appdata\\local\\programs\\python\\python39\\lib\\site-packages (from Flask) (3.1.2)\n",
      "Requirement already satisfied: colorama in c:\\users\\futuremind\\appdata\\local\\programs\\python\\python39\\lib\\site-packages (from click>=8.0->Flask) (0.4.6)\n",
      "Requirement already satisfied: zipp>=0.5 in c:\\users\\futuremind\\appdata\\local\\programs\\python\\python39\\lib\\site-packages (from importlib-metadata>=3.6.0->Flask) (3.15.0)\n",
      "Requirement already satisfied: MarkupSafe>=2.0 in c:\\users\\futuremind\\appdata\\local\\programs\\python\\python39\\lib\\site-packages (from Jinja2>=3.0->Flask) (2.1.2)\n",
      "Note: you may need to restart the kernel to use updated packages.\n"
     ]
    },
    {
     "name": "stderr",
     "output_type": "stream",
     "text": [
      "\n",
      "[notice] A new release of pip is available: 23.0.1 -> 23.1.1\n",
      "[notice] To update, run: C:\\Users\\Futuremind\\AppData\\Local\\Programs\\Python\\Python39\\python.exe -m pip install --upgrade pip\n"
     ]
    }
   ],
   "source": [
    "pip install Flask"
   ]
  },
  {
   "cell_type": "code",
   "execution_count": 2,
   "id": "bf8043fa",
   "metadata": {},
   "outputs": [],
   "source": [
    "from flask import Flask, jsonify, request\n",
    "import tensorflow as tf\n",
    "from tensorflow import keras"
   ]
  },
  {
   "cell_type": "code",
   "execution_count": null,
   "id": "5f047f2b",
   "metadata": {},
   "outputs": [
    {
     "name": "stderr",
     "output_type": "stream",
     "text": [
      "WARNING:absl:Skipping variable loading for optimizer 'Adam', because it has 13 variables whereas the saved optimizer has 1 variables. \n"
     ]
    },
    {
     "name": "stdout",
     "output_type": "stream",
     "text": [
      " * Serving Flask app '__main__'\n",
      " * Debug mode: off\n"
     ]
    },
    {
     "name": "stderr",
     "output_type": "stream",
     "text": [
      "INFO:werkzeug:\u001b[31m\u001b[1mWARNING: This is a development server. Do not use it in a production deployment. Use a production WSGI server instead.\u001b[0m\n",
      " * Running on http://127.0.0.1:5000\n",
      "INFO:werkzeug:\u001b[33mPress CTRL+C to quit\u001b[0m\n"
     ]
    }
   ],
   "source": [
    "# Import required libraries\n",
    "import pickle\n",
    "from flask import Flask, request, jsonify\n",
    "\n",
    "# Load your pickled machine learning model\n",
    "with open('real.pkl', 'rb') as f:\n",
    "    model = pickle.load(f)\n",
    "\n",
    "# Create a Flask application\n",
    "app = Flask(__name__)\n",
    "\n",
    "# Define a route to make predictions\n",
    "@app.route('/real', methods=['POST'])\n",
    "def predict():\n",
    "    # Get input data\n",
    "    data = request.get_json(force=True)\n",
    "\n",
    "    # Use the loaded model to make predictions\n",
    "    predictions = model.predict(data)\n",
    "\n",
    "    # Return predictions as JSON response\n",
    "    return jsonify(predictions)\n",
    "\n",
    "# Run the Flask application\n",
    "if __name__ == '__main__':\n",
    "    app.run()\n"
   ]
  },
  {
   "cell_type": "code",
   "execution_count": null,
   "id": "791af2f5",
   "metadata": {},
   "outputs": [],
   "source": []
  }
 ],
 "metadata": {
  "kernelspec": {
   "display_name": "Python 3 (ipykernel)",
   "language": "python",
   "name": "python3"
  },
  "language_info": {
   "codemirror_mode": {
    "name": "ipython",
    "version": 3
   },
   "file_extension": ".py",
   "mimetype": "text/x-python",
   "name": "python",
   "nbconvert_exporter": "python",
   "pygments_lexer": "ipython3",
   "version": "3.10.11"
  }
 },
 "nbformat": 4,
 "nbformat_minor": 5
}
