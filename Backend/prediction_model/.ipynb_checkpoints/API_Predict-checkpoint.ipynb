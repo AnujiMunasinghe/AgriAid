{
 "cells": [
  {
   "cell_type": "markdown",
   "metadata": {},
   "source": [
    "#### API_Predict"
   ]
  },
  {
   "cell_type": "code",
   "execution_count": 11,
   "metadata": {},
   "outputs": [
    {
     "name": "stdout",
     "output_type": "stream",
     "text": [
      "Requirement already satisfied: flask in c:\\users\\janithgamage\\anaconda3\\lib\\site-packages (2.2.2)\n",
      "Requirement already satisfied: Werkzeug>=2.2.2 in c:\\users\\janithgamage\\anaconda3\\lib\\site-packages (from flask) (2.2.2)\n",
      "Requirement already satisfied: Jinja2>=3.0 in c:\\users\\janithgamage\\anaconda3\\lib\\site-packages (from flask) (3.1.2)\n",
      "Requirement already satisfied: itsdangerous>=2.0 in c:\\users\\janithgamage\\anaconda3\\lib\\site-packages (from flask) (2.0.1)\n",
      "Requirement already satisfied: click>=8.0 in c:\\users\\janithgamage\\anaconda3\\lib\\site-packages (from flask) (8.0.4)\n",
      "Requirement already satisfied: colorama in c:\\users\\janithgamage\\anaconda3\\lib\\site-packages (from click>=8.0->flask) (0.4.6)\n",
      "Requirement already satisfied: MarkupSafe>=2.0 in c:\\users\\janithgamage\\anaconda3\\lib\\site-packages (from Jinja2>=3.0->flask) (2.1.1)\n",
      "Note: you may need to restart the kernel to use updated packages.\n"
     ]
    }
   ],
   "source": [
    "pip install flask tensorflow scikit-learn"
   ]
  },
  {
   "cell_type": "code",
   "execution_count": 12,
   "metadata": {},
   "outputs": [],
   "source": [
    "import tensorflow as tf\n",
    "from tensorflow.keras.models import load_model\n",
    "from sklearn.preprocessing import LabelEncoder, MinMaxScaler\n",
    "import json\n",
    "import numpy as np\n",
    "from flask import Flask, request, Response"
   ]
  },
  {
   "cell_type": "code",
   "execution_count": 13,
   "metadata": {},
   "outputs": [],
   "source": [
    "app = Flask(__name__)"
   ]
  },
  {
   "cell_type": "code",
   "execution_count": 14,
   "metadata": {},
   "outputs": [],
   "source": [
    "@app.route('/API/Predict', methods=['POST'])\n",
    "def Predict():\n",
    "\n",
    "    input_data = request.get_json()\n",
    "\n",
    "    # Preprocess the data\n",
    "    crop_encoder = LabelEncoder()\n",
    "    region_encoder = LabelEncoder()\n",
    "    quarter_encoder = LabelEncoder()\n",
    "\n",
    "    # Fit the encoders with the available data\n",
    "    crop_encoder.fit(['Capsicum', 'Green Chilli'])\n",
    "    # Update with the classes used for training the model\n",
    "    region_encoder.fit(['Colombo', 'Ampara',\n",
    "                        'Anuradhapura', 'Badulla', 'Batticaloa', 'Galle', 'Gampaha', 'Hambantota', 'Jaffna', 'Kalutara', 'Kandy', 'Kegalle', 'Kilinochchi', 'Kurunegala', 'Mannar', 'Matala', 'Monaragala', 'Mullaitivu', 'Nuwara Eliya', 'Polonnaruwa', 'Puttalam', 'Ratnapura', 'Trincomalee', 'Vavuniya'])\n",
    "\n",
    "    # Update with the classes used for training the model\n",
    "    quarter_encoder.fit(['Q1', 'Q2', 'Q3'])\n",
    "\n",
    "    # Encode the input values\n",
    "    input_crop_encoded = crop_encoder.transform([input_data['Crop']])[0]\n",
    "    input_region_encoded = region_encoder.transform([input_data['Region']])[0]\n",
    "    input_quarter_encoded = quarter_encoder.transform(\n",
    "        [input_data['Quarter']])[0]\n",
    "\n",
    "    # Load the trained model\n",
    "    model = load_model('trained_model.h5')\n",
    "\n",
    "    # Preprocess the input data\n",
    "    scaler = MinMaxScaler()\n",
    "    input_data_scaled = scaler.fit_transform(\n",
    "        [[input_crop_encoded, input_region_encoded, input_quarter_encoded]])\n",
    "\n",
    "    # Make predictions\n",
    "    predictions = model.predict(input_data_scaled)\n",
    "\n",
    "    # Fit the scaler with the training data\n",
    "    scaler_output = MinMaxScaler()\n",
    "    # Assuming the target variable was scaled between 0 and 1 during training\n",
    "    scaler_output.fit([[0], [1]])\n",
    "\n",
    "    # Decode the predictions\n",
    "    demand_pred = scaler_output.inverse_transform(\n",
    "        predictions.reshape(-1, 1)).flatten()\n",
    "    supply_pred = scaler_output.inverse_transform(\n",
    "        predictions.reshape(-1, 1)).flatten()\n",
    "    price_pred = scaler_output.inverse_transform(\n",
    "        predictions.reshape(-1, 1)).flatten()\n",
    "\n",
    "    # Print the predictions\n",
    "    print(\"Demand Prediction:\", demand_pred[0])\n",
    "    print(\"Supply Prediction:\", supply_pred[1])\n",
    "    print(\"Price Prediction:\", price_pred[2])\n",
    "\n",
    "    result = json.dumps({\n",
    "        \"Demand\": str(demand_pred[0]),\n",
    "        \"Supply\": str(supply_pred[1]),\n",
    "        \"Price\": str(price_pred[2])})\n",
    "\n",
    "    return Response(response=result, status=200)"
   ]
  },
  {
   "cell_type": "code",
   "execution_count": 15,
   "metadata": {},
   "outputs": [
    {
     "name": "stdout",
     "output_type": "stream",
     "text": [
      " * Serving Flask app '__main__'\n",
      " * Debug mode: on\n"
     ]
    },
    {
     "name": "stderr",
     "output_type": "stream",
     "text": [
      "WARNING: This is a development server. Do not use it in a production deployment. Use a production WSGI server instead.\n",
      " * Running on all addresses (0.0.0.0)\n",
      " * Running on http://127.0.0.1:8080\n",
      " * Running on http://192.168.1.2:8080\n",
      "Press CTRL+C to quit\n",
      " * Restarting with watchdog (windowsapi)\n"
     ]
    },
    {
     "ename": "SystemExit",
     "evalue": "1",
     "output_type": "error",
     "traceback": [
      "An exception has occurred, use %tb to see the full traceback.\n",
      "\u001b[1;31mSystemExit\u001b[0m\u001b[1;31m:\u001b[0m 1\n"
     ]
    }
   ],
   "source": [
    "if __name__ == \"__main__\":\n",
    "    app.run(debug=True, host=\"0.0.0.0\", port=int(8080))"
   ]
  }
 ],
 "metadata": {
  "kernelspec": {
   "display_name": "Python 3 (ipykernel)",
   "language": "python",
   "name": "python3"
  },
  "language_info": {
   "codemirror_mode": {
    "name": "ipython",
    "version": 3
   },
   "file_extension": ".py",
   "mimetype": "text/x-python",
   "name": "python",
   "nbconvert_exporter": "python",
   "pygments_lexer": "ipython3",
   "version": "3.10.9"
  }
 },
 "nbformat": 4,
 "nbformat_minor": 2
}
